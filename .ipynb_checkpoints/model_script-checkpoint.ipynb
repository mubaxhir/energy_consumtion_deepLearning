{
 "cells": [
  {
   "cell_type": "code",
   "execution_count": 11,
   "metadata": {},
   "outputs": [],
   "source": [
    "import numpy as np\n",
    "import matplotlib.pyplot as plt\n",
    "import pandas as pd\n",
    "from keras.models import Sequential\n",
    "from keras.layers import Dense, Activation, Dropout,LSTM\n",
    "from keras.optimizers import Adam,RMSprop\n",
    "import datetime as dt\n",
    "import math"
   ]
  },
  {
   "cell_type": "code",
   "execution_count": 12,
   "metadata": {},
   "outputs": [],
   "source": [
    "df1 = pd.read_csv('month1.csv')\n",
    "df2 = pd.read_csv('month2.csv')\n",
    "df3 = pd.read_csv('month3.csv')\n",
    "df4 = pd.read_csv('month4.csv')\n",
    "df5 = pd.read_csv('month5.csv')\n",
    "df6 = pd.read_csv('month6.csv')\n",
    "df7 = pd.read_csv('month7.csv')\n",
    "df8 = pd.read_csv('month8.csv')\n",
    "df9 = pd.read_csv('month9.csv')\n",
    "df10 = pd.read_csv('month10.csv')\n",
    "df11 = pd.read_csv('month11.csv')\n",
    "df12 = pd.read_csv('month12.csv')"
   ]
  },
  {
   "cell_type": "code",
   "execution_count": 13,
   "metadata": {},
   "outputs": [],
   "source": [
    "dates=[]\n",
    "buildiing_numbers=[]\n",
    "apartment_numbers=[]\n",
    "hourly_readings = []\n",
    "\n",
    "for x in df12.values:\n",
    "    dates.append(x[0])\n",
    "    buildiing_numbers.append(x[1])\n",
    "    apartment_numbers.append(x[2])\n",
    "    hourly_readings.append(x[3:])\n",
    "\n",
    "for x in df2.values:\n",
    "    dates.append(x[0])\n",
    "    buildiing_numbers.append(x[1])\n",
    "    apartment_numbers.append(x[2])\n",
    "    hourly_readings.append(x[3:])\n",
    "    \n",
    "for x in df3.values:\n",
    "    dates.append(x[0])\n",
    "    buildiing_numbers.append(x[1])\n",
    "    apartment_numbers.append(x[2])\n",
    "    hourly_readings.append(x[3:])\n",
    "\n",
    "for x in df4.values:\n",
    "    dates.append(x[0])\n",
    "    buildiing_numbers.append(x[1])\n",
    "    apartment_numbers.append(x[2])\n",
    "    hourly_readings.append(x[3:])\n",
    "    \n",
    "for x in df5.values:\n",
    "    dates.append(x[0])\n",
    "    buildiing_numbers.append(x[1])\n",
    "    apartment_numbers.append(x[2])\n",
    "    hourly_readings.append(x[3:])\n",
    "    \n",
    "for x in df6.values:\n",
    "    dates.append(x[0])\n",
    "    buildiing_numbers.append(x[1])\n",
    "    apartment_numbers.append(x[2])\n",
    "    hourly_readings.append(x[3:])\n",
    "    \n",
    "for x in df7.values:\n",
    "    dates.append(x[0])\n",
    "    buildiing_numbers.append(x[1])\n",
    "    apartment_numbers.append(x[2])\n",
    "    hourly_readings.append(x[3:])\n",
    "    \n",
    "for x in df8.values:\n",
    "    dates.append(x[0])\n",
    "    buildiing_numbers.append(x[1])\n",
    "    apartment_numbers.append(x[2])\n",
    "    hourly_readings.append(x[3:])\n",
    "    \n",
    "for x in df11.values:\n",
    "    dates.append(x[0])\n",
    "    buildiing_numbers.append(x[1])\n",
    "    apartment_numbers.append(x[2])\n",
    "    hourly_readings.append(x[3:])\n",
    "    \n",
    "for x in df1.values:\n",
    "    dates.append(x[0])\n",
    "    buildiing_numbers.append(x[1])\n",
    "    apartment_numbers.append(x[2])\n",
    "    hourly_readings.append(x[3:])\n",
    "    \n",
    "for x in df9.values:\n",
    "    dates.append(x[0])\n",
    "    buildiing_numbers.append(x[1])\n",
    "    apartment_numbers.append(x[2])\n",
    "    hourly_readings.append(x[3:])\n",
    "    \n",
    "for x in df10.values:\n",
    "    dates.append(x[0])\n",
    "    buildiing_numbers.append(x[1])\n",
    "    apartment_numbers.append(x[2])\n",
    "    hourly_readings.append(x[3:])"
   ]
  },
  {
   "cell_type": "code",
   "execution_count": 14,
   "metadata": {},
   "outputs": [
    {
     "name": "stdout",
     "output_type": "stream",
     "text": [
      "100294 49400\n"
     ]
    }
   ],
   "source": [
    "newdates=[]\n",
    "\n",
    "for date in dates:\n",
    "    try:\n",
    "        new = dt.datetime.strptime(date,\"%Y-%m-%d\")\n",
    "    except:\n",
    "        a = date.split(\"-\")\n",
    "        newdate = \"20\"+str(a[2])+\"-\"+str(a[1])+\"-\"+str(a[0])\n",
    "        new = dt.datetime.strptime(newdate,\"%Y-%m-%d\")\n",
    "            \n",
    "    newdates.append(new.timetuple().tm_yday)\n",
    "    \n",
    "dates =  newdates\n",
    "\n",
    "########\n",
    "\n",
    "new_appartments = {'???': 18, 'EL1': 19, 'EL2': 18, 'EL3': 11, 'EL4': 18, 'EL5': 12, 'EL6': 19}\n",
    "flats = []\n",
    "for x in apartment_numbers:\n",
    "    try:\n",
    "        int(x)\n",
    "        flats.append(x)\n",
    "    except: \n",
    "        if x not in new_appartments:\n",
    "            new_appartments.update({x:np.random.randint(10,20)})\n",
    "        flats.append(new_appartments[x])\n",
    "        \n",
    "apartment_numbers = flats\n",
    "\n",
    "######\n",
    "\n",
    "data = {'Date':dates, 'building_number':buildiing_numbers, \"apartment_numbers\":apartment_numbers,\"hourly_readings\":hourly_readings}\n",
    "\n",
    "######\n",
    "\n",
    "df = pd.DataFrame(data)\n",
    "\n",
    "df = df.sample(frac=1)\n",
    "dataset = df.values\n",
    "\n",
    "# split into train and test sets\n",
    "train_size = int(len(dataset) * 0.67)\n",
    "test_size = len(dataset) - train_size\n",
    "train, test = dataset[0:train_size,:], dataset[train_size:len(dataset),:]\n",
    "print(len(train), len(test))"
   ]
  },
  {
   "cell_type": "code",
   "execution_count": 15,
   "metadata": {},
   "outputs": [],
   "source": [
    "def create_dataset(dataset):\n",
    "    dataX, dataY = [], []\n",
    "    for i in dataset[:,0:3]:\n",
    "        dataX.append(i)\n",
    "    for i in dataset[:,3]:\n",
    "        dataY.append([float(x)for x in i]) \n",
    "    return np.array(dataX), np.array(dataY)\n",
    "\n",
    "trainX, trainY = create_dataset(train)\n",
    "testX, testY = create_dataset(test)"
   ]
  },
  {
   "cell_type": "code",
   "execution_count": 16,
   "metadata": {},
   "outputs": [],
   "source": [
    "adam = Adam(lr = 0.001)\n",
    "def build_model():\n",
    "    model = Sequential()\n",
    "    model.add(Dense(10, input_dim=(3), activation='relu'))\n",
    "    # model.add(Dense(16,activation='relu'))\n",
    "    model.add(Dense(24))\n",
    "    model.compile(loss='mean_squared_error', optimizer=adam,metrics=['mse', 'mae', 'mape', 'cosine'])\n",
    "    return model"
   ]
  },
  {
   "cell_type": "code",
   "execution_count": 17,
   "metadata": {},
   "outputs": [],
   "source": [
    "# x_val = trainX[:2358]\n",
    "# partial_x_train = trainX[2358:]\n",
    "# y_val = trainY[:2358]\n",
    "# partial_y_train = trainY[2358:]\n",
    "\n",
    "# k = 4\n",
    "# num_val_samples = len(train) // k\n",
    "# num_epochs = 15\n",
    "# all_scores = []\n",
    "# model = build_model()\n",
    "\n",
    "# for i in range(k):\n",
    "#     print('processing fold #', i)\n",
    "#     val_data = trainX[i * num_val_samples: (i + 1) * num_val_samples]\n",
    "#     val_targets = trainY[i * num_val_samples: (i + 1) * num_val_samples]\n",
    "#     partial_x_train = np.concatenate(\n",
    "#         [trainX[:i * num_val_samples],\n",
    "#         trainX[(i + 1) * num_val_samples:]],\n",
    "#         axis=0)\n",
    "#     partial_y_train = np.concatenate(\n",
    "#         [trainY[:i * num_val_samples],\n",
    "#         trainY[(i + 1) * num_val_samples:]],\n",
    "#         axis=0)\n",
    "    \n",
    "#     model.fit(partial_x_train, partial_y_train, epochs=num_epochs, batch_size=200, verbose=0,validation_data=(val_data, val_targets))\n",
    "# trainScore = model.evaluate(partial_x_train, partial_y_train, verbose=0)\n",
    "# print('Train Score: %.2f MSE (%.2f RMSE)' % (trainScore, math.sqrt(trainScore)))\n",
    "# testScore = model.evaluate(testX, testY, verbose=0)\n",
    "# print('Test Score: %.2f MSE (%.2f RMSE)' % (testScore, math.sqrt(testScore)))\n",
    "    \n"
   ]
  },
  {
   "cell_type": "code",
   "execution_count": 24,
   "metadata": {},
   "outputs": [
    {
     "name": "stdout",
     "output_type": "stream",
     "text": [
      "Epoch 1/4\n",
      "100294/100294 [==============================] - 3s 35us/step - loss: 1899.1848 - mean_squared_error: 1899.1848 - mean_absolute_error: 12.2024 - mean_absolute_percentage_error: 1834069020.0334 - cosine_proximity: -0.0623\n",
      "Epoch 2/4\n",
      "100294/100294 [==============================] - 3s 29us/step - loss: 20.3196 - mean_squared_error: 20.3196 - mean_absolute_error: 2.0630 - mean_absolute_percentage_error: 303511470.3213 - cosine_proximity: -0.2310\n",
      "Epoch 3/4\n",
      "100294/100294 [==============================] - 3s 28us/step - loss: 12.8949 - mean_squared_error: 12.8949 - mean_absolute_error: 1.1028 - mean_absolute_percentage_error: 160883351.0415 - cosine_proximity: -0.4145\n",
      "Epoch 4/4\n",
      "100294/100294 [==============================] - 3s 30us/step - loss: 11.6261 - mean_squared_error: 11.6261 - mean_absolute_error: 0.8775 - mean_absolute_percentage_error: 129894731.7085 - cosine_proximity: -0.5114\n"
     ]
    },
    {
     "ename": "AttributeError",
     "evalue": "module 'matplotlib.pyplot' has no attribute 'legands'",
     "output_type": "error",
     "traceback": [
      "\u001b[0;31m---------------------------------------------------------------------------\u001b[0m",
      "\u001b[0;31mAttributeError\u001b[0m                            Traceback (most recent call last)",
      "\u001b[0;32m<ipython-input-24-974ff222bc6a>\u001b[0m in \u001b[0;36m<module>\u001b[0;34m\u001b[0m\n\u001b[1;32m      9\u001b[0m \u001b[0mplt\u001b[0m\u001b[0;34m.\u001b[0m\u001b[0mplot\u001b[0m\u001b[0;34m(\u001b[0m\u001b[0mhistory\u001b[0m\u001b[0;34m.\u001b[0m\u001b[0mhistory\u001b[0m\u001b[0;34m[\u001b[0m\u001b[0;34m'mean_absolute_percentage_error'\u001b[0m\u001b[0;34m]\u001b[0m\u001b[0;34m)\u001b[0m\u001b[0;34m\u001b[0m\u001b[0;34m\u001b[0m\u001b[0m\n\u001b[1;32m     10\u001b[0m \u001b[0mplt\u001b[0m\u001b[0;34m.\u001b[0m\u001b[0mplot\u001b[0m\u001b[0;34m(\u001b[0m\u001b[0mhistory\u001b[0m\u001b[0;34m.\u001b[0m\u001b[0mhistory\u001b[0m\u001b[0;34m[\u001b[0m\u001b[0;34m'cosine_proximity'\u001b[0m\u001b[0;34m]\u001b[0m\u001b[0;34m)\u001b[0m\u001b[0;34m\u001b[0m\u001b[0;34m\u001b[0m\u001b[0m\n\u001b[0;32m---> 11\u001b[0;31m \u001b[0mplt\u001b[0m\u001b[0;34m.\u001b[0m\u001b[0mlegands\u001b[0m\u001b[0;34m(\u001b[0m\u001b[0;34m)\u001b[0m\u001b[0;34m\u001b[0m\u001b[0;34m\u001b[0m\u001b[0m\n\u001b[0m\u001b[1;32m     12\u001b[0m \u001b[0mplt\u001b[0m\u001b[0;34m.\u001b[0m\u001b[0mshow\u001b[0m\u001b[0;34m(\u001b[0m\u001b[0;34m)\u001b[0m\u001b[0;34m\u001b[0m\u001b[0;34m\u001b[0m\u001b[0m\n\u001b[1;32m     13\u001b[0m \u001b[0;34m\u001b[0m\u001b[0m\n",
      "\u001b[0;31mAttributeError\u001b[0m: module 'matplotlib.pyplot' has no attribute 'legands'"
     ]
    },
    {
     "data": {
      "image/png": "[encoded data removed]",
      "text/plain": [
       "<Figure size 432x288 with 1 Axes>"
      ]
     },
     "metadata": {
      "needs_background": "light"
     },
     "output_type": "display_data"
    }
   ],
   "source": [
    "# # create and fit Multilayer Perceptron model\n",
    "\n",
    "model = build_model()\n",
    "history  =model.fit(trainX, trainY, epochs=4, batch_size=100, verbose=1)\n",
    "\n",
    "# plot metrics\n",
    "plt.plot(history.history['mean_squared_error'])\n",
    "plt.plot(history.history['mean_absolute_error'])\n",
    "plt.plot(history.history['mean_absolute_percentage_error'])\n",
    "plt.plot(history.history['cosine_proximity'])\n",
    "plt.legands()\n",
    "plt.show()\n",
    "\n",
    "\n",
    "# Estimate model performance\n",
    "# trainScore = model.evaluate(trainX, trainY, verbose=0)\n",
    "# print('Train Score: %.2f MSE (%.2f RMSE)' % (trainScore, math.sqrt(trainScore)))\n",
    "# testScore = model.evaluate(testX, testY, verbose=0)\n",
    "# print('Test Score: %.2f MSE (%.2f RMSE)' % (testScore, math.sqrt(testScore)))"
   ]
  },
  {
   "cell_type": "code",
   "execution_count": 25,
   "metadata": {},
   "outputs": [
    {
     "data": {
      "text/plain": [
       "4.507726699790039"
      ]
     },
     "execution_count": 25,
     "metadata": {},
     "output_type": "execute_result"
    }
   ],
   "source": [
    "math.sqrt(20.3196)"
   ]
  },
  {
   "cell_type": "code",
   "execution_count": 26,
   "metadata": {},
   "outputs": [
    {
     "name": "stdout",
     "output_type": "stream",
     "text": [
      "25.50 11.20\n",
      "10.47 12.40\n",
      "29.11 8.40\n",
      "11.36 22.10\n",
      "11.97 5.20\n",
      "11.53 16.00\n",
      "15.71 11.40\n",
      "10.50 5.50\n",
      "11.14 2.70\n",
      "11.09 6.40\n",
      "10.99 10.70\n"
     ]
    }
   ],
   "source": [
    "# put any 2 ranges points and compare models predictions from orignals\n",
    "for index in range(1111,1122):\n",
    "    test = np.expand_dims(testX[index],axis=0)\n",
    "    predict = model.predict(test)[0]\n",
    "    prediction =[]\n",
    "    for x in predict:\n",
    "        if x < 0:\n",
    "            prediction.append(0)\n",
    "        else:\n",
    "            prediction.append(x)\n",
    "    # print(prediction)\n",
    "    # testY[index]\n",
    "    print(\"%.2f\"%math.fsum(prediction),\"%.2f\"%math.fsum(testY[index]))"
   ]
  },
  {
   "cell_type": "code",
   "execution_count": 9,
   "metadata": {},
   "outputs": [],
   "source": [
    "# model.save('model_final.h5')"
   ]
  },
  {
   "cell_type": "code",
   "execution_count": 28,
   "metadata": {},
   "outputs": [
    {
     "data": {
      "image/png": "[encoded data removed]",
      "text/plain": [
       "<Figure size 432x288 with 1 Axes>"
      ]
     },
     "metadata": {
      "needs_background": "light"
     },
     "output_type": "display_data"
    }
   ],
   "source": [
    "i = []\n",
    "j = []\n",
    "# for index in range(136,192):\n",
    "for index in range(1,300):\n",
    "    test = np.expand_dims(testX[index],axis=0)\n",
    "    predict = model.predict(test)[0]\n",
    "    prediction =[]\n",
    "    for x in predict:\n",
    "        if x < 0:\n",
    "            prediction.append(0)\n",
    "        else:\n",
    "            prediction.append(x)\n",
    "    i.append(float(\"%.2f\"%math.fsum(prediction)))\n",
    "    j.append(float(\"%.2f\"%math.fsum(testY[index])))\n",
    "\n",
    "\n",
    "import matplotlib.pyplot as plt\n",
    "plt.plot(range(len(j)),j)\n",
    "plt.plot(i)\n",
    "plt.yticks(range(0,int(max(j)) ,20))\n",
    "plt.xlabel('Dates of year ')\n",
    "plt.ylabel('energy consuptions')\n",
    "plt.grid()\n",
    "plt.show()"
   ]
  },
  {
   "cell_type": "code",
   "execution_count": null,
   "metadata": {},
   "outputs": [],
   "source": []
  }
 ],
 "metadata": {
  "kernelspec": {
   "display_name": "Python 3",
   "language": "python",
   "name": "python3"
  },
  "language_info": {
   "codemirror_mode": {
    "name": "ipython",
    "version": 3
   },
   "file_extension": ".py",
   "mimetype": "text/x-python",
   "name": "python",
   "nbconvert_exporter": "python",
   "pygments_lexer": "ipython3",
   "version": "3.7.3"
  }
 },
 "nbformat": 4,
 "nbformat_minor": 2
}
