{
 "cells": [
  {
   "cell_type": "code",
   "execution_count": 2,
   "metadata": {},
   "outputs": [
    {
     "name": "stderr",
     "output_type": "stream",
     "text": [
      "Using TensorFlow backend.\n"
     ]
    }
   ],
   "source": [
    "from datetime import date, timedelta, datetime\n",
    "import pandas as pd\n",
    "import numpy as np\n",
    "from keras.models import load_model\n",
    "import math"
   ]
  },
  {
   "cell_type": "code",
   "execution_count": 7,
   "metadata": {},
   "outputs": [],
   "source": [
    "#put your Data here\n",
    "\n",
    "# only month and year\n",
    "monthAndYear = \"7-2019\"\n",
    "\n",
    "building = \"222\"\n",
    "appartment = \"402\"\n",
    "\n",
    "\n",
    "#don't touch this\n",
    "month = datetime.strptime(monthAndYear,\"%m-%Y\")"
   ]
  },
  {
   "cell_type": "code",
   "execution_count": 9,
   "metadata": {},
   "outputs": [],
   "source": [
    "#some code_names for string named appartments\n",
    "new_appartments = {'???': 18, 'EL1': 19, 'EL2': 18, 'EL3': 11, 'EL4': 18, 'EL5': 12, 'EL6': 19}\n",
    "if appartment in new_appartments:\n",
    "    appartment = new_appartments[appartment]\n",
    "    \n",
    "\n",
    "#method for list of dates in year for for month\n",
    "def days_month(month):\n",
    "    m = month.month\n",
    "    y = month.year\n",
    "    try:\n",
    "        ndays = (date(y, m+1, 1) - date(y, m, 1)).days\n",
    "    except:\n",
    "        ndays = (date(y, m, 1) - date(y, m-1, 1)).days\n",
    "    d1 = date(y, m, 1)\n",
    "    d2 = date(y, m, ndays)\n",
    "    delta = d2 - d1\n",
    "    return [(d1 + timedelta(days=i)).timetuple().tm_yday for i in range(delta.days + 1)]\n",
    "\n",
    "\n",
    "\n",
    "#combine all data\n",
    "dates = days_month(month)\n",
    "apartment_numbers = [appartment for x in dates]\n",
    "buildiing_numbers = [building for x in dates]\n",
    "data = {'Date':dates, 'building_number':buildiing_numbers, \"apartment_numbers\":apartment_numbers}\n",
    "df = pd.DataFrame(data)\n",
    "data = df.values"
   ]
  },
  {
   "cell_type": "code",
   "execution_count": 5,
   "metadata": {},
   "outputs": [
    {
     "name": "stderr",
     "output_type": "stream",
     "text": [
      "WARNING: Logging before flag parsing goes to stderr.\n",
      "W0604 12:58:30.453648 139758051563328 deprecation_wrapper.py:119] From /home/mubashir/anaconda3/lib/python3.7/site-packages/keras/backend/tensorflow_backend.py:517: The name tf.placeholder is deprecated. Please use tf.compat.v1.placeholder instead.\n",
      "\n",
      "W0604 12:58:31.110709 139758051563328 deprecation_wrapper.py:119] From /home/mubashir/anaconda3/lib/python3.7/site-packages/keras/backend/tensorflow_backend.py:4138: The name tf.random_uniform is deprecated. Please use tf.random.uniform instead.\n",
      "\n",
      "W0604 12:58:31.273838 139758051563328 deprecation_wrapper.py:119] From /home/mubashir/anaconda3/lib/python3.7/site-packages/keras/backend/tensorflow_backend.py:174: The name tf.get_default_session is deprecated. Please use tf.compat.v1.get_default_session instead.\n",
      "\n",
      "W0604 12:58:31.276415 139758051563328 deprecation_wrapper.py:119] From /home/mubashir/anaconda3/lib/python3.7/site-packages/keras/backend/tensorflow_backend.py:181: The name tf.ConfigProto is deprecated. Please use tf.compat.v1.ConfigProto instead.\n",
      "\n",
      "W0604 12:58:31.278510 139758051563328 deprecation_wrapper.py:119] From /home/mubashir/anaconda3/lib/python3.7/site-packages/keras/backend/tensorflow_backend.py:186: The name tf.Session is deprecated. Please use tf.compat.v1.Session instead.\n",
      "\n",
      "W0604 12:58:35.846461 139758051563328 deprecation_wrapper.py:119] From /home/mubashir/anaconda3/lib/python3.7/site-packages/keras/optimizers.py:790: The name tf.train.Optimizer is deprecated. Please use tf.compat.v1.train.Optimizer instead.\n",
      "\n"
     ]
    },
    {
     "name": "stdout",
     "output_type": "stream",
     "text": [
      "_________________________________________________________________\n",
      "Layer (type)                 Output Shape              Param #   \n",
      "=================================================================\n",
      "dense_27 (Dense)             (None, 10)                40        \n",
      "_________________________________________________________________\n",
      "dense_28 (Dense)             (None, 24)                264       \n",
      "=================================================================\n",
      "Total params: 304\n",
      "Trainable params: 304\n",
      "Non-trainable params: 0\n",
      "_________________________________________________________________\n"
     ]
    }
   ],
   "source": [
    "#load model\n",
    "model = load_model('model_final.h5')\n",
    "model.summary()"
   ]
  },
  {
   "cell_type": "code",
   "execution_count": 8,
   "metadata": {},
   "outputs": [
    {
     "data": {
      "image/png": "[encoded data removed]",
      "text/plain": [
       "<Figure size 432x288 with 1 Axes>"
      ]
     },
     "metadata": {
      "needs_background": "light"
     },
     "output_type": "display_data"
    }
   ],
   "source": [
    "# full month prediction for a appartment\n",
    "predictions=[]\n",
    "for index in data:\n",
    "    test = np.expand_dims(index,axis=0)\n",
    "    predict = model.predict(test)[0]\n",
    "    prediction =[]\n",
    "    for x in predict:\n",
    "        if x < 0:\n",
    "            prediction.append(0)\n",
    "        else:\n",
    "            prediction.append(x)    \n",
    "    predictions.append(float(\"%.2f\"%math.fsum(prediction)))\n",
    "\n",
    "    \n",
    "#lets plot this\n",
    "import matplotlib.pyplot as plt\n",
    "plt.plot(range(len(dates)),predictions)\n",
    "plt.yticks(range(0, 40,4))\n",
    "plt.xlabel('Dates of month '+ monthAndYear)\n",
    "plt.ylabel('energy consuptions by '+appartment)\n",
    "plt.grid()\n",
    "plt.show()"
   ]
  },
  {
   "cell_type": "code",
   "execution_count": null,
   "metadata": {},
   "outputs": [],
   "source": []
  }
 ],
 "metadata": {
  "kernelspec": {
   "display_name": "Python 3",
   "language": "python",
   "name": "python3"
  },
  "language_info": {
   "codemirror_mode": {
    "name": "ipython",
    "version": 3
   },
   "file_extension": ".py",
   "mimetype": "text/x-python",
   "name": "python",
   "nbconvert_exporter": "python",
   "pygments_lexer": "ipython3",
   "version": "3.7.3"
  }
 },
 "nbformat": 4,
 "nbformat_minor": 2
}
